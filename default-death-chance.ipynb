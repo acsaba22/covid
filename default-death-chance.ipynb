{
 "cells": [
  {
   "cell_type": "markdown",
   "metadata": {},
   "source": [
    "# Estimate probability of death generally in the next 15 days per age \n",
    "This is useful to put the CFR of a disease in perspective."
   ]
  },
  {
   "cell_type": "code",
   "execution_count": 1,
   "metadata": {},
   "outputs": [],
   "source": [
    "import numpy as np\n",
    "import pandas as pd\n",
    "import matplotlib as mpl\n",
    "import matplotlib.pyplot as plt\n",
    "import math\n",
    "\n",
    "mpl.style.use('seaborn')\n",
    "plt.rcParams['figure.figsize'] = [20, 7]"
   ]
  },
  {
   "cell_type": "code",
   "execution_count": 2,
   "metadata": {},
   "outputs": [],
   "source": [
    "import datetime\n",
    "from dateutil.parser import parse as parse_date"
   ]
  },
  {
   "cell_type": "markdown",
   "metadata": {},
   "source": [
    "## Data taken from here:\n",
    "[bandolier - Risk of death by age and sex](http://www.bandolier.org.uk/booth/Risk/dyingage.html)\n",
    "\n",
    "Data gathared from UK."
   ]
  },
  {
   "cell_type": "code",
   "execution_count": 56,
   "metadata": {},
   "outputs": [],
   "source": [
    "s = \"\"\"\n",
    "Men\n",
    "Women\n",
    "All ages\t\n",
    "136\n",
    "193\n",
    "Under 1\t\n",
    "177\n",
    "227\n",
    "1- 4\t\n",
    "4386\n",
    "5376\n",
    "5 - 14\t\n",
    "8333\n",
    "10417\n",
    "15-24\t\n",
    "1908\n",
    "4132\n",
    "25-34\t\n",
    "1215\n",
    "2488\n",
    "35-44\t\n",
    "663\n",
    "1106\n",
    "45-54\t\n",
    "279\n",
    "421\n",
    "55-64\t\n",
    "112\n",
    "178\n",
    "65-74\t\n",
    "42\n",
    "65\n",
    "75-84\t\n",
    "15\n",
    "21\n",
    "85 and over\t\n",
    "6\n",
    "7\n",
    "\"\"\"\n"
   ]
  },
  {
   "cell_type": "code",
   "execution_count": 74,
   "metadata": {},
   "outputs": [],
   "source": [
    "sp = s.split(\"\\n\")[:-1]"
   ]
  },
  {
   "cell_type": "code",
   "execution_count": 75,
   "metadata": {},
   "outputs": [
    {
     "data": {
      "text/plain": [
       "['',\n",
       " 'Men',\n",
       " 'Women',\n",
       " 'All ages\\t',\n",
       " '136',\n",
       " '193',\n",
       " 'Under 1\\t',\n",
       " '177',\n",
       " '227',\n",
       " '1- 4\\t',\n",
       " '4386',\n",
       " '5376',\n",
       " '5 - 14\\t',\n",
       " '8333',\n",
       " '10417',\n",
       " '15-24\\t',\n",
       " '1908',\n",
       " '4132',\n",
       " '25-34\\t',\n",
       " '1215',\n",
       " '2488',\n",
       " '35-44\\t',\n",
       " '663',\n",
       " '1106',\n",
       " '45-54\\t',\n",
       " '279',\n",
       " '421',\n",
       " '55-64\\t',\n",
       " '112',\n",
       " '178',\n",
       " '65-74\\t',\n",
       " '42',\n",
       " '65',\n",
       " '75-84\\t',\n",
       " '15',\n",
       " '21',\n",
       " '85 and over\\t',\n",
       " '6',\n",
       " '7']"
      ]
     },
     "execution_count": 75,
     "metadata": {},
     "output_type": "execute_result"
    }
   ],
   "source": [
    "sp "
   ]
  },
  {
   "cell_type": "markdown",
   "metadata": {},
   "source": [
    "## Yearly odds of dying\n",
    "Annual death risk 1 in X"
   ]
  },
  {
   "cell_type": "code",
   "execution_count": 111,
   "metadata": {},
   "outputs": [
    {
     "name": "stdout",
     "output_type": "stream",
     "text": [
      "                     Men      Women   \n",
      "All ages             136      193     \n",
      "Under 1              177      227     \n",
      "1- 4                 4386     5376    \n",
      "5 - 14               8333     10417   \n",
      "15-24                1908     4132    \n",
      "25-34                1215     2488    \n",
      "35-44                663      1106    \n",
      "45-54                279      421     \n",
      "55-64                112      178     \n",
      "65-74                42       65      \n",
      "75-84                15       21      \n",
      "85 and over          6        7       \n"
     ]
    }
   ],
   "source": [
    "for v in range(0, len(sp), 3):\n",
    "    print(\"{:<20} {:<8} {:<8}\".format(sp[v].strip(), sp[v+1], sp[v+2]))"
   ]
  },
  {
   "cell_type": "markdown",
   "metadata": {},
   "source": [
    "## Yearly probability"
   ]
  },
  {
   "cell_type": "code",
   "execution_count": 117,
   "metadata": {},
   "outputs": [
    {
     "name": "stdout",
     "output_type": "stream",
     "text": [
      "                Men    Women \n",
      "All ages       0.74%   0.52%\n",
      "Under 1        0.56%   0.44%\n",
      "1- 4           0.02%   0.02%\n",
      "5 - 14         0.01%   0.01%\n",
      "15-24          0.05%   0.02%\n",
      "25-34          0.08%   0.04%\n",
      "35-44          0.15%   0.09%\n",
      "45-54          0.36%   0.24%\n",
      "55-64          0.89%   0.56%\n",
      "65-74          2.38%   1.54%\n",
      "75-84          6.67%   4.76%\n",
      "85 and over   16.67%  14.29%\n"
     ]
    }
   ],
   "source": [
    "for v in range(0, len(sp), 3):    \n",
    "    if v == 0:\n",
    "        print(\"{:<15} {:<6} {:<6}\".format(sp[v].strip(), sp[v+1], sp[v+2]))\n",
    "    else:\n",
    "        print(\"{:<12} {:6.2f}% {:6.2f}%\".format(sp[v].strip(), 100./float(sp[v+1]), 100./float(sp[v+2])))"
   ]
  },
  {
   "cell_type": "markdown",
   "metadata": {},
   "source": [
    "## Probability of dying in the next 15 days"
   ]
  },
  {
   "cell_type": "code",
   "execution_count": 123,
   "metadata": {},
   "outputs": [
    {
     "name": "stdout",
     "output_type": "stream",
     "text": [
      "                 Men      Women   \n",
      "All ages       0.0302%   0.0213%\n",
      "Under 1        0.0232%   0.0181%\n",
      "1- 4           0.0009%   0.0008%\n",
      "5 - 14         0.0005%   0.0004%\n",
      "15-24          0.0022%   0.0010%\n",
      "25-34          0.0034%   0.0017%\n",
      "35-44          0.0062%   0.0037%\n",
      "45-54          0.0147%   0.0098%\n",
      "55-64          0.0367%   0.0231%\n",
      "65-74          0.0978%   0.0632%\n",
      "75-84          0.2740%   0.1957%\n",
      "85 and over    0.6849%   0.5871%\n"
     ]
    }
   ],
   "source": [
    "for v in range(0, len(sp), 3):    \n",
    "    if v == 0:\n",
    "        print(\"{:<16} {:<8} {:<8}\".format(sp[v].strip(), sp[v+1], sp[v+2]))\n",
    "    else:\n",
    "        print(\"{:<12} {:8.4f}% {:8.4f}%\".format(sp[v].strip(), 100./float(sp[v+1])*(15/365), 100./float(sp[v+2])*(15/365)))"
   ]
  },
  {
   "cell_type": "code",
   "execution_count": null,
   "metadata": {},
   "outputs": [],
   "source": []
  }
 ],
 "metadata": {
  "kernelspec": {
   "display_name": "Python 3",
   "language": "python",
   "name": "python3"
  },
  "language_info": {
   "codemirror_mode": {
    "name": "ipython",
    "version": 3
   },
   "file_extension": ".py",
   "mimetype": "text/x-python",
   "name": "python",
   "nbconvert_exporter": "python",
   "pygments_lexer": "ipython3",
   "version": "3.7.4+"
  }
 },
 "nbformat": 4,
 "nbformat_minor": 4
}
